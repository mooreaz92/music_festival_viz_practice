{
 "cells": [
  {
   "attachments": {},
   "cell_type": "markdown",
   "metadata": {},
   "source": [
    "# **Visualizing web scraped music festival data in Tableau** \n",
    "\n",
    "*By Ryan Moore*"
   ]
  },
  {
   "attachments": {},
   "cell_type": "markdown",
   "metadata": {},
   "source": [
    "## Project Overview and Objectives\n",
    "\n",
    "#### *Overview*\n",
    "\n",
    "The following is a personal project where publicly available tables containing music festival data are web scraped, combined, cleaned, and visualized in Tableau.\n",
    "\n",
    "#### *Objectives*\n",
    "\n",
    "This project will have five main objectives:\n",
    "\n",
    "1. Web scrape music festival data from Festival Alarm, a publicly available website that tracks music festival data (mainly in Europe)\n",
    "2. Combine the scraped data into a single table\n",
    "3. Perform a high-level analysis of the data and clean it as needed\n",
    "4. Export the data to Tableau and create visualizations for publication\n",
    "5. Document findings and analysis in a blog post\n",
    "\n",
    "#### *A note on web scraping*\n",
    "\n",
    "The Flatiron school data science boot camp teaches it's students to always check the terms and conditions of a website before web scraping. Festival Alarm does not have a terms and conditions page, but it does have a privacy policy page (however, it is in German, so this was translated using Google Translate).\n",
    "\n",
    "The privacy policy page does not explicitly state that web scraping is not allowed, but it does state that the website is not to be used for commercial purposes.I reached out to the website owners and waited a week for their response; none was given. Since this project is for educational purposes only and there is no explicit statement against web scraping, I decided to proceed with the project.\n",
    "\n",
    "If anyone from Festival Alarm reads this and would like me to take down this project, please reach out to me and I will do so immediately. You can email me at mooreaz92@gmail.com or message me on GitHub."
   ]
  },
  {
   "attachments": {},
   "cell_type": "markdown",
   "metadata": {},
   "source": [
    "## Objective 1: Web scrape the music festival data"
   ]
  },
  {
   "attachments": {},
   "cell_type": "markdown",
   "metadata": {},
   "source": [
    "**Website Overview**\n",
    "\n",
    "The target website looks like this:\n",
    "\n",
    "<div style=\"text-align: center;\">\n",
    "  <img src=\"images/website_screen_1.png\" alt=\"Website Screen 1\" width=\"50%\" style=\"border-radius: 10px;\">\n",
    "</div>\n",
    "\n",
    "The above example is for the year of 2023. In order to change years, you must click on the year in the top right corner of the screen. This will bring you to a page that looks like this:\n",
    "\n",
    "<div style=\"text-align: center;\">\n",
    "  <img src=\"images/website_screen_2.png\" alt=\"Website Screen 2\" width=\"30%\" style=\"border-radius: 10px;\">\n",
    "</div>\n",
    "\n",
    "From here, you can click on the year you want to view and a table like the first screenshot will pop up. The table contains the following fields (I have added what I believe each field to mean in italics):\n",
    "\n",
    "- Name \n",
    "  - *The name of the festival*\n",
    "- Date + [year being viewed] \n",
    "  - *The date of the festival*\n",
    "- Duration \n",
    "  - *The duration, in days, of the festival*\n",
    "- Where \n",
    "  - *Whether the festival is indoors or outdoors*\n",
    "- Category \n",
    "  - *The type of music played at the festival*\n",
    "- Genres \n",
    "  - *The genres of music played at the festival*\n",
    "- Country \n",
    "  - *The country the festival is located in*\n",
    "- Visitors \n",
    "  - *The number of visitors the festival had*\n",
    "- Price \n",
    "  - *The price of a ticket to the festival, in euros*\n",
    "- Links \n",
    "  - *Links to the festival's website, ticket site, and an option to add to your festival list*\n",
    "\n",
    "\n"
   ]
  },
  {
   "attachments": {},
   "cell_type": "markdown",
   "metadata": {},
   "source": [
    "**Webscraping Strategy**"
   ]
  },
  {
   "attachments": {},
   "cell_type": "markdown",
   "metadata": {},
   "source": [
    "To webscrape this data, I will use a combination of the `requests` and `BeautifulSoup` libraries. The `requests` library will be used to make the HTTP request to the website and the `BeautifulSoup` library will be used to parse the HTML and extract the data. High level, we will code a custom function that takes in a list of years and that does the following:\n",
    "\n",
    "1. Makes an HTTP request to the website\n",
    "2. Parses the HTML using `BeautifulSoup`\n",
    "3. Extracts the data from the HTML\n",
    "4. Returns the data in a list of dictionaries\n",
    "5. Combines the list of dictionaries into a single dataframe"
   ]
  },
  {
   "cell_type": "code",
   "execution_count": 17,
   "metadata": {},
   "outputs": [],
   "source": [
    "### Importing libraries\n",
    "\n",
    "import requests\n",
    "import csv\n",
    "import pandas as pd\n",
    "from bs4 import BeautifulSoup\n",
    "\n",
    "### Doing a sample request to the website, and checking if the request was successful\n",
    "\n",
    "url = 'https://www.festival-alarm.com/us/Festivals-2023'\n",
    "response = requests.get(url)\n",
    "assert response.status_code == 200"
   ]
  },
  {
   "attachments": {},
   "cell_type": "markdown",
   "metadata": {},
   "source": [
    "**Beautiful Soup Analysis**\n",
    "\n",
    "Before we can write the webscraping function it would be good if we could get a better understanding of the HTML structure of the website. To do this, we will use the `BeautifulSoup` library to parse the HTML and then use the `prettify()` method to print out the HTML in a more readable format."
   ]
  },
  {
   "cell_type": "code",
   "execution_count": 18,
   "metadata": {},
   "outputs": [],
   "source": [
    "### Making a request to the website, and getting the HTML content\n",
    "\n",
    "url = 'https://www.festival-alarm.com/us/Festivals-2023'\n",
    "response = requests.get(url)\n",
    "html = response.content\n",
    "soup = BeautifulSoup(html, \"html.parser\")\n",
    "\n",
    "### Using prettify to make the HTML content more readable, and identifying the html elements that make up the table. (Commented out)\n",
    "\n",
    "# print(soup.prettify())"
   ]
  },
  {
   "attachments": {},
   "cell_type": "markdown",
   "metadata": {},
   "source": [
    "After taking a look at the prettified text dump in a seperate text editor, it looks like this table uses the **table**, **tr**, and **td** html table elements. We can use this information when we code the webscraping function.\n",
    "\n",
    "We can use beautiful soup to pull the table element, and then use the .read_html pandas method to convert the table into a dataframe. This will be useful when we are testing our webscraping function."
   ]
  },
  {
   "cell_type": "code",
   "execution_count": 19,
   "metadata": {},
   "outputs": [
    {
     "name": "stdout",
     "output_type": "stream",
     "text": [
      "<class 'pandas.core.frame.DataFrame'>\n",
      "RangeIndex: 745 entries, 0 to 744\n",
      "Data columns (total 11 columns):\n",
      " #   Column       Non-Null Count  Dtype  \n",
      "---  ------       --------------  -----  \n",
      " 0   Name         745 non-null    object \n",
      " 1   Date 2023    745 non-null    object \n",
      " 2   Duration     745 non-null    object \n",
      " 3   Where        745 non-null    object \n",
      " 4   Category     745 non-null    object \n",
      " 5   Genres       745 non-null    object \n",
      " 6   Country      745 non-null    object \n",
      " 7   Venue        745 non-null    object \n",
      " 8   Visitors     745 non-null    object \n",
      " 9   Price(s.f.)  475 non-null    object \n",
      " 10  Unnamed: 10  0 non-null      float64\n",
      "dtypes: float64(1), object(10)\n",
      "memory usage: 64.1+ KB\n"
     ]
    }
   ],
   "source": [
    "### Parsing the HTML content using BeautifulSoup and converting it to a dataframe\n",
    "table = soup.find('table')\n",
    "\n",
    "### Converting the HTML table to a dataframe\n",
    "df = pd.read_html(str(table))[0]\n",
    "\n",
    "### Printing the info of the dataframe\n",
    "\n",
    "df.info()"
   ]
  },
  {
   "attachments": {},
   "cell_type": "markdown",
   "metadata": {},
   "source": [
    "**Checking the sample webscraping method is pulling everything from the site**\n",
    "\n",
    "Luckily for us, the website has content at the end of the table which shows a count of records. We can use this to check that our webscraping function is pulling all of the data from the website.\n",
    "\n",
    "<div style=\"text-align: center;\">\n",
    "  <img src=\"images/website_screen_3.png\" alt=\"Website Screen 3\" width=\"30%\" style=\"border-radius: 10px;\">\n",
    "</div>\n",
    "\n",
    "Looks like our webscraping function is pulling all of the data from the sample website page. Now we can move on to coding the webscraping function to bring in a bunch of years at once."
   ]
  },
  {
   "attachments": {},
   "cell_type": "markdown",
   "metadata": {},
   "source": [
    "## Objective 2: Combine the scraped data into a single table"
   ]
  },
  {
   "attachments": {},
   "cell_type": "markdown",
   "metadata": {},
   "source": [
    "**Coding the webscraping function**\n",
    "\n",
    "Now that we have a webscraping function that works for a single year, we can code a function that will pull in multiple years at once. \n",
    "\n",
    "The function will take in a range of years and will return a dataframe with all of the data from the years in the range. It would be useful to have the year be a column in the dataframe for each row since it currently only exists in the table header. We can do this by adding a column to the dataframe and filling it with the year that the data was pulled from. "
   ]
  },
  {
   "cell_type": "code",
   "execution_count": 20,
   "metadata": {},
   "outputs": [],
   "source": [
    "### Making a function that requests the HTML content of each url in range of years, appends the year, and then appends each together into a single dataframe\n",
    "\n",
    "def get_festival_data(start_year, end_year):\n",
    "    df_list = []\n",
    "    for year in range(start_year, end_year + 1):\n",
    "        url = f'https://www.festival-alarm.com/us/Festivals-{year}'\n",
    "        response = requests.get(url)\n",
    "        html = response.content\n",
    "        soup = BeautifulSoup(html, \"html.parser\")\n",
    "        table = soup.find('table')\n",
    "        df = pd.read_html(str(table))[0]\n",
    "        df['year'] = year\n",
    "        df_list.append(df)\n",
    "    return pd.concat(df_list, ignore_index=True)"
   ]
  },
  {
   "attachments": {},
   "cell_type": "markdown",
   "metadata": {},
   "source": [
    "**Performing the final extract of the data**\n",
    "\n",
    "Now that we have a webscraping function that works for multiple years, we can use it to extract the data from the website. We will extract all the available data from the website, which is from 2014 to 2024 (future dates for upcoming festivals). We will perform high level checks on the data in the next section."
   ]
  },
  {
   "cell_type": "code",
   "execution_count": 21,
   "metadata": {},
   "outputs": [],
   "source": [
    "### Getting the data for the years 2014 to 2024\n",
    "\n",
    "df = get_festival_data(2014, 2024)"
   ]
  },
  {
   "attachments": {},
   "cell_type": "markdown",
   "metadata": {},
   "source": [
    "## Objective 3: Perform a high-level analysis of the data and clean it as needed\n",
    "\n",
    "With the data extracted, we can now perform a high-level analysis of the data and clean it as needed. "
   ]
  },
  {
   "attachments": {},
   "cell_type": "markdown",
   "metadata": {},
   "source": [
    "**Fixing the date column**\n",
    "\n",
    "From looking at the .info() of the dataframe, we can tell that the date range of the festival is in unique columns depending on the year the festival took place.\n",
    "\n",
    "For example, if a festival took place between July 14th, 2015 and July 18th, 2015, the row would be populated with 07/14-07/18 in the Date 2015 column and all other 'Date' columns would be blank. It would be better if we had a start_date and end_date column instead of a column for each year. We can do this by creating a function that takes in a row and returns the start and end date of the festival."
   ]
  },
  {
   "cell_type": "code",
   "execution_count": 22,
   "metadata": {},
   "outputs": [],
   "source": [
    "### Making a function that extracts the date range\n",
    "\n",
    "def extract_date_range(row):\n",
    "    year = row['year']\n",
    "    date_columns = [col for col in row.index if col.startswith('Date')]\n",
    "    date_column = next((col for col in date_columns if str(year) in col), None)\n",
    "    \n",
    "    if date_column:\n",
    "        date_range = row[date_column]\n",
    "        start_date = date_range[:5] + \"/\" + str(year)\n",
    "        end_date = date_range[-5:] + \"/\" + str(year)\n",
    "        return start_date, end_date\n",
    "    \n",
    "    return None, None\n",
    "\n",
    "### Applying the function to the dataframe\n",
    "\n",
    "df_date = df.copy()\n",
    "df_date['start_date'], df_date['end_date'] = zip(*df_date.apply(extract_date_range, axis=1))\n",
    "\n",
    "### Dropping the 'Date' columns with the exception of the newly created start_date and end_date columns\n",
    "\n",
    "df_date_cleaned = df_date.drop(columns=[col for col in df_date.columns if col.startswith('Date') and col not in ['start_date', 'end_date']])"
   ]
  },
  {
   "attachments": {},
   "cell_type": "markdown",
   "metadata": {},
   "source": [
    "**Investigating Nulls**\n",
    "\n",
    "We should also check for nulls in the dataframe. There is one column that contains only null values; this is likely a column that was added to the website after the data was scraped. We can drop this column.\n",
    "\n",
    "The remaining data looks good, so we can move on to the next step and create some visualizations to get a high level sense of the data and make sure it makes sense before exporting to Tableau."
   ]
  },
  {
   "cell_type": "code",
   "execution_count": 23,
   "metadata": {},
   "outputs": [],
   "source": [
    "### Dropping the columns that only contain NaN values\n",
    "\n",
    "df_date_cleaned = df_date_cleaned.dropna(axis=1, how='all')"
   ]
  },
  {
   "attachments": {},
   "cell_type": "markdown",
   "metadata": {},
   "source": [
    "**Extracting the numerical value in duration and Price**\n",
    "\n",
    "The duration column contains the number of days that the festival lasted and the price contains the price of a ticket to the festival in Euros. We can extract the numerical value from these columns and create new columns for them."
   ]
  },
  {
   "cell_type": "code",
   "execution_count": 24,
   "metadata": {},
   "outputs": [
    {
     "name": "stdout",
     "output_type": "stream",
     "text": [
      "<class 'pandas.core.frame.DataFrame'>\n",
      "RangeIndex: 2848 entries, 0 to 2847\n",
      "Data columns (total 12 columns):\n",
      " #   Column       Non-Null Count  Dtype \n",
      "---  ------       --------------  ----- \n",
      " 0   Name         2848 non-null   object\n",
      " 1   Duration     2848 non-null   object\n",
      " 2   Where        2848 non-null   object\n",
      " 3   Category     2848 non-null   object\n",
      " 4   Genres       2848 non-null   object\n",
      " 5   Country      2848 non-null   object\n",
      " 6   Venue        2848 non-null   object\n",
      " 7   Visitors     2848 non-null   object\n",
      " 8   Price(s.f.)  2030 non-null   object\n",
      " 9   year         2848 non-null   int64 \n",
      " 10  start_date   2848 non-null   object\n",
      " 11  end_date     2848 non-null   object\n",
      "dtypes: int64(1), object(11)\n",
      "memory usage: 267.1+ KB\n"
     ]
    }
   ],
   "source": [
    "df_date_cleaned.info()"
   ]
  },
  {
   "cell_type": "code",
   "execution_count": 25,
   "metadata": {},
   "outputs": [],
   "source": [
    "### Extracting the numerical value from the 'duration' column\n",
    "\n",
    "df_date_cleaned['Duration'] = df_date_cleaned['Duration'].str.extract('(\\d+)').astype(int)\n",
    "\n",
    "### Renaming the 'Duration' column to 'Duration (days)'\n",
    "\n",
    "df_date_cleaned = df_date_cleaned.rename(columns={'Duration': 'Duration (days)'})\n",
    "\n",
    "### Extracting the numerical value from the 'Price' column and putting 0 for NaN values\n",
    "\n",
    "df_date_cleaned['Price(s.f.)'] = df_date_cleaned['Price(s.f.)'].str.extract('(\\d+)').fillna(0).astype(int)\n",
    "\n",
    "### Renaming the 'Price' column to 'Price (EUR)'\n",
    "\n",
    "df_date_cleaned = df_date_cleaned.rename(columns={'Price(s.f.)': 'Ticket Price (EUR)'})"
   ]
  },
  {
   "attachments": {},
   "cell_type": "markdown",
   "metadata": {},
   "source": [
    "**Extracting relevant address information**\n",
    "\n",
    "Currently, there is a 'venue' column which contains a lot of information about the address of the venue. We can seperate this manually so it is easier to work with in Tableau."
   ]
  },
  {
   "cell_type": "code",
   "execution_count": 26,
   "metadata": {},
   "outputs": [],
   "source": [
    "### Make a copy of the dataframe\n",
    "\n",
    "df_location_extracted = df_date_cleaned.copy()\n",
    "\n",
    "### Write a function with regex to extract the location, city, country code, and zip code\n",
    "\n",
    "import re\n",
    "\n",
    "def extract_location_details(venue):\n",
    "    location_pattern = r'(.+?),\\s*'  # Matches the location followed by a comma and optional whitespace\n",
    "    city_pattern = r'(\\w+),\\s*'  # Matches the city followed by a comma and optional whitespace\n",
    "    country_zip_pattern = r'(\\w{2})\\s*(\\d+)$'  # Matches the two-letter country code followed by the zip code\n",
    "\n",
    "    location = re.search(location_pattern, venue)\n",
    "    city = re.search(city_pattern, venue)\n",
    "    country_zip = re.search(country_zip_pattern, venue)\n",
    "\n",
    "    location = location.group(1) if location else None\n",
    "    city = city.group(1) if city else None\n",
    "    country_code = country_zip.group(1) if country_zip else None\n",
    "    zip_code = country_zip.group(2) if country_zip else None\n",
    "\n",
    "    return location, city, country_code, zip_code\n",
    "\n",
    "### Applying the function to the dataframe\n",
    "\n",
    "df_location_extracted['Location'], df_location_extracted['City'], df_location_extracted['Country Code'], df_location_extracted['Zip Code'] = zip(*df_location_extracted['Venue'].apply(extract_location_details))\n"
   ]
  },
  {
   "attachments": {},
   "cell_type": "markdown",
   "metadata": {},
   "source": [
    "The venue column is difficult to work with because it contains a lot of information about the address of the venue. We have seperated it as best we can, but there are still some issues with the data. Most of these records look complete, but we can edit some manually in Tableau if needed."
   ]
  },
  {
   "attachments": {},
   "cell_type": "markdown",
   "metadata": {},
   "source": [
    "**One-hot-encoding the genres column**\n",
    "\n",
    "The genres column contains a list of genres for each festival. We can one-hot-encode this column to make it easier to work with in Tableau, but it is worth investigating the number of unique genres in the column first. If there are too many unique genres, it may not be worth one-hot-encoding the column."
   ]
  },
  {
   "cell_type": "code",
   "execution_count": 27,
   "metadata": {},
   "outputs": [
    {
     "name": "stdout",
     "output_type": "stream",
     "text": [
      "['Crossover' ' German rock' ' Hardcore (Metal)' ' Metal' ' Punk' ' Rock'\n",
      " 'German rock' ' Gothic' 'Comedy' ' Folk' ' Reading' ' Folk music'\n",
      " ' Electro' ' Hip-Hop' ' Pop' 'Hardcore (Metal)' 'Folk' 'Metal'\n",
      " ' Art & culture' ' Medieval' ' Classical music' 'Dance' ' House'\n",
      " ' Trance' 'Electro' 'Country' ' Irish' ' Pirate' 'Movie' 'Punk' ' Goa'\n",
      " ' Jazz' 'Hip-Hop' 'Pop' 'Jazz' 'Other' ' Movie' ' Sports' ' Reggae'\n",
      " ' Schlager music' ' Hardcore (Electro)' 'Sports' 'Schlager music'\n",
      " 'Art & culture' 'Rock' 'Blues' ' Country' ' Rockabilly' 'Ska' 'Gothic'\n",
      " 'Classical music' ' Funk' ' Ska' ' Dance' ' Disco' ' Comedy' ' Other'\n",
      " 'Reading' 'Reggae' ' Latin' 'Africa' ' Blues' ' Crossover' 'Pirate'\n",
      " 'Funk' 'Hardcore (Electro)' 'Disco' ' Electronic Dance Music (EDM)'\n",
      " ' Salsa' 'Folk music' 'Rockabilly' 'House' 'Electronic Dance Music (EDM)'\n",
      " 'Goa' 'Medieval' 'Bluegrass' 'K-Pop' 'Latin' 'Irish']\n",
      "There are 79 unique genres\n"
     ]
    }
   ],
   "source": [
    "### Investigating the unique values in each list contained in the 'Genre' column\n",
    "\n",
    "genre_uniques = df_date_cleaned['Genres'].apply(lambda x: x.split(',')).explode().unique()\n",
    "\n",
    "print(genre_uniques)\n",
    "print(f'There are {len(genre_uniques)} unique genres')"
   ]
  },
  {
   "attachments": {},
   "cell_type": "markdown",
   "metadata": {},
   "source": [
    "When looking at this list it appears as if certain genres have extra characters in them when they really should be the same. For example, 'Electronic Dance Music (EDM)' and ' Electronic Dance Music (EDM)' should be the same, one just happens to have an extra space.\n",
    "\n",
    "Looking at this list, it looks relatively safe to remove whitespace from this column and then one-hot-encode it."
   ]
  },
  {
   "cell_type": "code",
   "execution_count": 28,
   "metadata": {},
   "outputs": [
    {
     "name": "stdout",
     "output_type": "stream",
     "text": [
      "['Crossover' 'Germanrock' 'Hardcore(Metal)' 'Metal' 'Punk' 'Rock' 'Gothic'\n",
      " 'Comedy' 'Folk' 'Reading' 'Folkmusic' 'Electro' 'Hip-Hop' 'Pop'\n",
      " 'Art&culture' 'Medieval' 'Classicalmusic' 'Dance' 'House' 'Trance'\n",
      " 'Country' 'Irish' 'Pirate' 'Movie' 'Goa' 'Jazz' 'Other' 'Sports' 'Reggae'\n",
      " 'Schlagermusic' 'Hardcore(Electro)' 'Blues' 'Rockabilly' 'Ska' 'Funk'\n",
      " 'Disco' 'Latin' 'Africa' 'ElectronicDanceMusic(EDM)' 'Salsa' 'Bluegrass'\n",
      " 'K-Pop']\n",
      "There are 42 unique genres\n"
     ]
    }
   ],
   "source": [
    "### Stripping all whitespace from the 'Genres' column\n",
    "\n",
    "df_date_cleaned_stripped = df_date_cleaned.copy()\n",
    "df_date_cleaned_stripped['Genres'] = df_date_cleaned_stripped['Genres'].apply(lambda x: x.replace(' ', ''))\n",
    "\n",
    "### Investigating the unique values in each list contained in the 'Genre' column\n",
    "\n",
    "genre_uniques_clean = df_date_cleaned_stripped['Genres'].apply(lambda x: x.split(',')).explode().unique()\n",
    "print(genre_uniques_clean)\n",
    "print(f'There are {len(genre_uniques_clean)} unique genres')"
   ]
  },
  {
   "attachments": {},
   "cell_type": "markdown",
   "metadata": {},
   "source": [
    "Looks good! And 42 unique genres is not too many to one-hot-encode. Let's one-hot encode the 'Genres' column after removing all whitespace."
   ]
  },
  {
   "cell_type": "code",
   "execution_count": 29,
   "metadata": {},
   "outputs": [],
   "source": [
    "### Making a copy of the dataframe\n",
    "\n",
    "df_final = df_date_cleaned_stripped.copy()\n",
    "\n",
    "### Splitting genres on commas\n",
    "df_final['Genres'] = df_final['Genres'].str.split(',')\n",
    "\n",
    "### Changing the 'Country' column to 'Nation' to avoid confusion with the 'Country' genre\n",
    "\n",
    "df_final.rename(columns={'Country': 'Nation'}, inplace=True)\n",
    "\n",
    "### Performing one-hot encoding manually\n",
    "\n",
    "genres = set(genre for sublist in df_final['Genres'].tolist() for genre in sublist)\n",
    "\n",
    "for genre in genres:\n",
    "    df_final[genre] = df_final['Genres'].apply(lambda x: int(genre in x))\n",
    "\n",
    "### Dropping the original 'Genres' column\n",
    "df_final.drop('Genres', axis=1, inplace=True)"
   ]
  },
  {
   "attachments": {},
   "cell_type": "markdown",
   "metadata": {},
   "source": [
    "**Investigating Outliers in the Duration Column**\n",
    "\n",
    "We should also check for outliers in the duration column. We can do this by looking at the distribution of the duration column and then checking for any festivals that have a duration that is more than 3 standard deviations away from the mean."
   ]
  },
  {
   "cell_type": "code",
   "execution_count": 30,
   "metadata": {},
   "outputs": [
    {
     "name": "stdout",
     "output_type": "stream",
     "text": [
      "2826 records remain, which is 99.23% of the original dataset. 22 records were deleted.\n"
     ]
    }
   ],
   "source": [
    "### Dropping records with duration that is more than 3 standard deviations from the mean, and then printing out how many records were deleted\n",
    "\n",
    "df_final = df_final[df_final['Duration (days)'] < df_final['Duration (days)'].mean() + 3 * df_final['Duration (days)'].std()]\n",
    "print(f'{len(df_final)} records remain, which is {len(df_final) / len(df_date_cleaned) * 100:.2f}% of the original dataset. {len(df_date_cleaned) - len(df_final)} records were deleted.')"
   ]
  },
  {
   "attachments": {},
   "cell_type": "markdown",
   "metadata": {},
   "source": [
    "22 records is not a lot to remove from the dataset, so we can remove these records since it is likely that they are errors in the collection of the data. This is not surprising as a lot of the information on this website is user submitted and there does not appear to be a rigorous vetting process for the data."
   ]
  },
  {
   "cell_type": "code",
   "execution_count": 31,
   "metadata": {},
   "outputs": [
    {
     "data": {
      "text/plain": [
       "<Axes: >"
      ]
     },
     "execution_count": 31,
     "metadata": {},
     "output_type": "execute_result"
    },
    {
     "data": {
      "image/png": "[encoded data removed]",
      "text/plain": [
       "<Figure size 640x480 with 1 Axes>"
      ]
     },
     "metadata": {},
     "output_type": "display_data"
    }
   ],
   "source": [
    "### Histogram of the duration of festivals\n",
    "\n",
    "df_final['Duration (days)'].hist()"
   ]
  },
  {
   "attachments": {},
   "cell_type": "markdown",
   "metadata": {},
   "source": [
    "## Objective 4: Export the data to Tableau and create visualizations for publication\n",
    "\n",
    "With the data scraped, combined, and cleaned, we can now export it to Tableau and create visualizations for publication."
   ]
  },
  {
   "cell_type": "code",
   "execution_count": 32,
   "metadata": {},
   "outputs": [],
   "source": [
    "### Exporting the final dataframe to a csv file\n",
    "\n",
    "df_final.to_csv('extracted_and_cleaned_festival_data.csv', index=False)"
   ]
  }
 ],
 "metadata": {
  "kernelspec": {
   "display_name": "Python 3",
   "language": "python",
   "name": "python3"
  },
  "language_info": {
   "codemirror_mode": {
    "name": "ipython",
    "version": 3
   },
   "file_extension": ".py",
   "mimetype": "text/x-python",
   "name": "python",
   "nbconvert_exporter": "python",
   "pygments_lexer": "ipython3",
   "version": "3.11.0"
  },
  "orig_nbformat": 4
 },
 "nbformat": 4,
 "nbformat_minor": 2
}
